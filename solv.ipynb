import numpy as np
from matplotlib import pyplot as plt
from scipy import integrate

import ode

def f1(y):
    return [y[1], 4*y[0]]


def secant(f, a, b, error):
    if abs(f(a)[0]) < error:
        return [a, f(a)[0]]
    else:
        return secant(f, b - (b - a) * f(b)[0] / (f(b)[0] - f(a)[0]), a, error)


def shoot(f, delta_t, x0, v0, error):
    y0 = secant(f, x0, v0, error)
    x, v, t = ode.solve(delta_t, y0[0], y0[1], 4)
    return x, v, t

error = 1e-6
delta_t = 0.01
x0 = 5.0
v0 = 218.282706

y, v, t = shoot(f1, delta_t, x0, v0, error)
t3 = np.linspace(0,2,1000)
sol = integrate.solve_ivp(f1,(0,2),(5, 218.282706),t_eval=t3)
y3, v3 = sol.y
plt.plot(t3, y3, label ='scipy method')
y2 = [2*np.exp(2*t)+3*np.exp(-2*t) for t in t]
plt.plot(t,y,label='shooting method')
plt.plot(t,y2,label='analytical solution')
plt.legend()
plt.show()