{
 "cells": [
  {
   "cell_type": "markdown",
   "metadata": {},
   "source": [
    "# Homework Assignment 3 (Individual)\n",
    "\n",
    "---"
   ]
  },
  {
   "cell_type": "markdown",
   "metadata": {},
   "source": [
    "### <p style=\"text-align: right;\"> &#9989; Zilin Dong </p>"
   ]
  },
  {
   "cell_type": "markdown",
   "metadata": {},
   "source": [
    "\n",
    "---\n",
    "## Creating a natural selection model using ABMs and OOP\n",
    "\n",
    "In this homework, we have two sections.\n",
    "\n",
    "- **Part A: Git practice**\n",
    "- **Part B: ABM + OOP: Simulating animal populations -- Natural selection and adaptation**\n",
    "\n",
    "<img src=\"https://raw.githubusercontent.com/huichiayu/cmse_202_802/main/IMGs/rock_mice.jpg\" border=\"0\" align=\"center\" width=\"600\">\n",
    "image found online.\n",
    "\n",
    "\n",
    "### Goal for this homework assignment\n",
    "By now, you have learned ABM and OOP through the assignments of assembling Zoo and Superbugs. Let's use those skills to build a simple fun model of natural selection. \n",
    "\n",
    "**This assignment is due roughly two weeks from now at 11:59 pm on Friday, March 31.** It should be uploaded into the \"Homework Assignments\" submission folder for Homework #3, as well as GitHub turn-in repo.  Submission instructions can be found at the end of the notebook. **The distribution of points can be found in the section headers**.\n"
   ]
  },
  {
   "cell_type": "markdown",
   "metadata": {},
   "source": [
    "---\n",
    "## Part 0: Upload this file to your Git repository to track your progress on your assignment (15 pt)\n",
    "\n",
    "#### Note: This is different from previous assignments!\n",
    "\n",
    "You will add this homework assignment to your GutHub repository you created for previous homework so that you can track your progress on the assignment and preserve the final version that you turn in. We also want you to get practice with **branching**, as that will be important and useful for your group projects. \n",
    "\n",
    "**&#9989; Do the following**:\n",
    "\n",
    "\n",
    "1. Navigate to your `cmse202-s23-turnin` repository \n",
    "2. Create a new branch called `hw03_branch` and move into it. \n",
    "3. Create a new directory called `hw-03`.\n",
    "4. Move this notebook into that **new directory**, then **add** and **commit** it. \n",
    "5. Finally, to test that everything is working, `git push` the file and new branch so they end up in your GitHub repository. \n",
    "\n",
    "**Important**: Make sure to add your Professor and TA as collaborators of this respository with \"Read\" access so that we can see your assignment (you should have done this in the previous homework assignment)\n",
    "\n",
    "**Also**: Make sure that the version of this notebook that you are working on is the same one that you just added to your repository! If you are working on a different copy of the noteobok, **none of your changes will be tracked**!\n",
    "\n",
    "If everything went as intended, the file should now show up on your GitHub account in the `cmse202-s23-turnin` repository inside the `hw-03` directory and `hw-03` branch that you just created.  Periodically, **you'll be asked to commit your changes and push them to the remote GitHub location**. Of course, you can always commit your changes more often than that, if you wish.  It will be good to develop a habit of committing your changes any time you make a significant modification, or when you stop working on the project for a bit.\n",
    "\n"
   ]
  },
  {
   "cell_type": "markdown",
   "metadata": {},
   "source": [
    "---\n",
    "\n",
    "# A natural selection model\n",
    "For this homework assignment, you will be building an Agent-Based Model (ABM) that simulates natural selection in action. You will build two classes for mice, which inhabit the world, and one class for a (predator) hawk. The mice have different fur color, which allows them to blend in better (or worse) with their environment. This model is (loosely) based on an actual case of natural selection involving the [Peppered Moth](https://en.wikipedia.org/wiki/Peppered_moth_evolution).\n",
    "\n",
    "For this assignment, you will be working with an environment class, which will allow you to actually run your simulation. We've also provided you with a generic `Animal_Agent`, which you will use to build your own classes for the natural selection model. You will need to download the generic `Animal_Agent` class and `Environment` class. You can find them here:\n",
    "\n",
    "- `https://raw.githubusercontent.com/msu-cmse-courses/cmse202-S23-data/main/HW/HW3/Animal_Agent_Class.py`\n",
    "- `https://raw.githubusercontent.com/msu-cmse-courses/cmse202-S23-data/main/HW/HW3/Environment.py`"
   ]
  },
  {
   "cell_type": "markdown",
   "metadata": {},
   "source": [
    "## 1. Building Up an Environment with Animal Agents\n",
    "\n",
    "\n",
    "\n",
    "### 1.1 (5 Points)\n",
    "\n",
    "Spend some time exploring the new classes a bit. **Write a few sentences giving a high-level description of how this model works. What are the different classes? What do they do? How can they be used to create an Agent-Based Model?**\n"
   ]
  },
  {
   "cell_type": "markdown",
   "metadata": {},
   "source": [
    "*Write your response here.*\n",
    "\n",
    "So basically there are two classes: Animal Agent class and Environment class. The Environment class sets up the environment for this \"simulation\". and Animal Agent class can generate an Animal Agent with various characteristics like age or sex. Also, these Animal agents can execute a series of \"behavior\" and each Environment generated from Environment Class can add Animal agents or simulate the world."
   ]
  },
  {
   "cell_type": "markdown",
   "metadata": {},
   "source": [
    "### 1.2 (15 Points)\n",
    "\n",
    "Construct a new `Environment` object and a new `Animal_Agent` object. Specify that the `Animal_Agent` object is a female. Add the `Animal_Agent` object to the `Environment` object. Run the `simulation` method. You should see there's a bug in the code. **Fix the bug and explain what the cause was.**"
   ]
  },
  {
   "cell_type": "code",
   "execution_count": 1,
   "metadata": {},
   "outputs": [
    {
     "data": {
      "image/png": "[encoded data removed]",
      "text/plain": [
       "<Figure size 432x432 with 1 Axes>"
      ]
     },
     "metadata": {
      "needs_background": "light"
     },
     "output_type": "display_data"
    }
   ],
   "source": [
    "#Write your code here\n",
    "import numpy as np\n",
    "import Environment\n",
    "import Animal_Agent_Class\n",
    "\n",
    "env = Environment.Environment()\n",
    "ani_1 = Animal_Agent_Class.Animal_Agent(sex='F')\n",
    "env.add_agent(ani_1)\n",
    "env.simulate(50)\n",
    "\n",
    "#I've restarted my kernel to solve the bug so it now only shows the one that's being correctly running (Meaning no error reported here)"
   ]
  },
  {
   "cell_type": "markdown",
   "metadata": {},
   "source": [
    "*Explain the bug here.*\n",
    "\n",
    "In line 50 of Environment class, the procreate function was used with parameters (all_agents=dt, time=self.animal_agents), in which we know the order is wrong. We just need to swap the order"
   ]
  },
  {
   "cell_type": "markdown",
   "metadata": {},
   "source": [
    "### 1.3 (5 Points)\n",
    "\n",
    "**In the cell below, copy your `simulation` code from above and rerun it with the bug fixed to show how the animal runs around.** You should use the `set_allele()` method in the `Animal_Agent` class to randomly assign two alleles to your `Animal_Agent` object.\n"
   ]
  },
  {
   "cell_type": "code",
   "execution_count": 31,
   "metadata": {},
   "outputs": [
    {
     "data": {
      "image/png": "[encoded data removed]",
      "text/plain": [
       "<Figure size 432x432 with 1 Axes>"
      ]
     },
     "metadata": {
      "needs_background": "light"
     },
     "output_type": "display_data"
    }
   ],
   "source": [
    "#Write your code here\n",
    "env = Environment.Environment()\n",
    "ani_1 = Animal_Agent_Class.Animal_Agent(sex='F')\n",
    "ani_1.set_allele(np.random.choice([0,1],2)[0], np.random.choice([0,1],2)[1])\n",
    "env.add_agent(ani_1)\n",
    "env.simulate(50)\n"
   ]
  },
  {
   "cell_type": "code",
   "execution_count": null,
   "metadata": {},
   "outputs": [],
   "source": []
  },
  {
   "cell_type": "markdown",
   "metadata": {},
   "source": [
    "### 1.4 (5 Points)\n",
    "\n",
    "**Now add in a predator and let it evolve. Do you see the predator hunting the prey object?** Make sure to set the `ptype` to predator, and the `shape` and `color` to be something different from the prey you defined above (E.g., a shape of \"P\" and a color of \"red\".)"
   ]
  },
  {
   "cell_type": "code",
   "execution_count": 3,
   "metadata": {},
   "outputs": [
    {
     "data": {
      "image/png": "[encoded data removed]",
      "text/plain": [
       "<Figure size 432x432 with 1 Axes>"
      ]
     },
     "metadata": {
      "needs_background": "light"
     },
     "output_type": "display_data"
    }
   ],
   "source": [
    "#Write your code here\n",
    "\n",
    "pred_1 = Animal_Agent_Class.Animal_Agent(ptype='Predator',color='b',shape=\"P\")\n",
    "env = Environment.Environment()\n",
    "ani_1 = Animal_Agent_Class.Animal_Agent(sex='F')\n",
    "env.add_agent(ani_1)\n",
    "env.add_agent(pred_1)\n",
    "env.simulate(50)"
   ]
  },
  {
   "cell_type": "markdown",
   "metadata": {},
   "source": [
    "### 1.5 (15 Points)\n",
    "\n",
    "**Now add *multiple* predator and prey agents ($N > 1$ for both). Find a combination of $N_{\\mathrm{Prey}}$ and $N_{\\mathrm{Predator}}$ where the Prey can maintain a sustainable population (I.e., they aren't wiped out in the long run).**\n",
    "\n",
    "- **NOTE 1:** Make sure you add both male and female Prey, so they can `Procreate`. \n",
    "- **NOTE 2:** We recommend using the `simulate_plot_populations()` method, so you can monitor the growth/decline of populations."
   ]
  },
  {
   "cell_type": "code",
   "execution_count": 96,
   "metadata": {},
   "outputs": [
    {
     "data": {
      "image/png": "[encoded data removed]",
      "text/plain": [
       "<Figure size 432x288 with 1 Axes>"
      ]
     },
     "metadata": {
      "needs_background": "light"
     },
     "output_type": "display_data"
    }
   ],
   "source": [
    "#Write your code here\n",
    "pred_1_b = Animal_Agent_Class.Animal_Agent(ptype='Predator',color='b',shape=\"P\")\n",
    "pred_1_g = Animal_Agent_Class.Animal_Agent(ptype='Predator',color='g',shape=\"P\")\n",
    "\n",
    "ani_1_f = Animal_Agent_Class.Animal_Agent(sex='F')\n",
    "ani_1_m = Animal_Agent_Class.Animal_Agent(sex='M')\n",
    "ani_2_f = Animal_Agent_Class.Animal_Agent(sex='F')\n",
    "ani_2_m = Animal_Agent_Class.Animal_Agent(sex='M')\n",
    "ani_3_f = Animal_Agent_Class.Animal_Agent(sex='F')\n",
    "ani_3_m = Animal_Agent_Class.Animal_Agent(sex='M')\n",
    "ani_4_f = Animal_Agent_Class.Animal_Agent(sex='F')\n",
    "ani_4_m = Animal_Agent_Class.Animal_Agent(sex='M')\n",
    "ani_5_f = Animal_Agent_Class.Animal_Agent(sex='F')\n",
    "ani_5_m = Animal_Agent_Class.Animal_Agent(sex='M')\n",
    "ani_6_f = Animal_Agent_Class.Animal_Agent(sex='F')\n",
    "ani_6_m = Animal_Agent_Class.Animal_Agent(sex='M')\n",
    "ani_7_f = Animal_Agent_Class.Animal_Agent(sex='F')\n",
    "ani_7_m = Animal_Agent_Class.Animal_Agent(sex='M')\n",
    "ani_8_f = Animal_Agent_Class.Animal_Agent(sex='F')\n",
    "ani_8_m = Animal_Agent_Class.Animal_Agent(sex='M')\n",
    "ani_9_f = Animal_Agent_Class.Animal_Agent(sex='F')\n",
    "ani_9_m = Animal_Agent_Class.Animal_Agent(sex='M')\n",
    "\n",
    "ani_1_f.set_allele(np.random.choice([0,1],1)[0], np.random.choice([0,1],1)[0])\n",
    "ani_1_m.set_allele(np.random.choice([0,1],1)[0], np.random.choice([0,1],1)[0])\n",
    "ani_2_f.set_allele(np.random.choice([0,1],1)[0], np.random.choice([0,1],1)[0])\n",
    "ani_2_m.set_allele(np.random.choice([0,1],1)[0], np.random.choice([0,1],1)[0])\n",
    "ani_3_f.set_allele(np.random.choice([0,1],1)[0], np.random.choice([0,1],1)[0])\n",
    "ani_3_m.set_allele(np.random.choice([0,1],1)[0], np.random.choice([0,1],1)[0])\n",
    "ani_4_f.set_allele(np.random.choice([0,1],1)[0], np.random.choice([0,1],1)[0])\n",
    "ani_4_m.set_allele(np.random.choice([0,1],1)[0], np.random.choice([0,1],1)[0])\n",
    "\n",
    "ani_5_f.set_allele(np.random.choice([0,1],1)[0], np.random.choice([0,1],1)[0])\n",
    "ani_5_m.set_allele(np.random.choice([0,1],1)[0], np.random.choice([0,1],1)[0])\n",
    "\n",
    "ani_6_f.set_allele(np.random.choice([0,1],1)[0], np.random.choice([0,1],1)[0])\n",
    "ani_6_m.set_allele(np.random.choice([0,1],1)[0], np.random.choice([0,1],1)[0])\n",
    "\n",
    "ani_7_f.set_allele(np.random.choice([0,1],1)[0], np.random.choice([0,1],1)[0])\n",
    "ani_7_m.set_allele(np.random.choice([0,1],1)[0], np.random.choice([0,1],1)[0])\n",
    "\n",
    "ani_8_f.set_allele(np.random.choice([0,1],1)[0], np.random.choice([0,1],1)[0])\n",
    "ani_8_m.set_allele(np.random.choice([0,1],1)[0], np.random.choice([0,1],1)[0])\n",
    "ani_9_f.set_allele(np.random.choice([0,1],1)[0], np.random.choice([0,1],1)[0])\n",
    "ani_9_m.set_allele(np.random.choice([0,1],1)[0], np.random.choice([0,1],1)[0])\n",
    "\n",
    "\n",
    "\n",
    "env = Environment.Environment()\n",
    "env.add_agent(ani_1_f)\n",
    "env.add_agent(ani_1_m)\n",
    "env.add_agent(ani_2_f)\n",
    "env.add_agent(ani_2_m)\n",
    "env.add_agent(ani_3_f)\n",
    "env.add_agent(ani_3_m)\n",
    "env.add_agent(ani_4_f)\n",
    "env.add_agent(ani_4_m)\n",
    "env.add_agent(ani_5_f)\n",
    "env.add_agent(ani_5_m)\n",
    "env.add_agent(ani_6_f)\n",
    "env.add_agent(ani_6_m)\n",
    "env.add_agent(ani_7_f)\n",
    "env.add_agent(ani_7_m)\n",
    "env.add_agent(ani_8_f)\n",
    "env.add_agent(ani_8_m)\n",
    "env.add_agent(ani_9_f)\n",
    "env.add_agent(ani_9_m)\n",
    "\n",
    "env.add_agent(pred_1_b)\n",
    "env.add_agent(pred_1_g)\n",
    "env.simulate_plot_populations(100)"
   ]
  },
  {
   "cell_type": "markdown",
   "metadata": {},
   "source": [
    "### 1.6 (5 Points)\n",
    "\n",
    "**How does the population evolve over time? (I.e., is it linear? Periodic? etc.) What causes this shape? How does the population of light brown and dark brown prey differ (if at all)?**"
   ]
  },
  {
   "cell_type": "markdown",
   "metadata": {},
   "source": [
    "*Write your response here.*\n",
    "It's sort of a periodic evolution. As we can see both light brown and dark brown fluctuated and got larger periodically. This is because preys are aging and dying while mating and having gestation=8 to have the next cycle of offsprings. approximately we can the period of these changes is 8. Also, the population of light brown increases faster than the dark brown one, and it got even faster as time goes."
   ]
  },
  {
   "cell_type": "markdown",
   "metadata": {},
   "source": [
    "## 2. Refining the Model\n",
    "\n",
    "For this part, we're going to use our generic `Animal_Agent`class to construct child classes that represent *specific* animal species for both our predator and prey animals. Specifically, we'll be making a `Mouse` child class for the prey and a `Hawk` child class for the predator. **We'll use these new child classes to run our natural selection model.**\n",
    "\n",
    "### 2.1 (15 Points)\n",
    "\n",
    "Create a new `Mouse` child class, using the `Animal_Agent` as the parent class. The `Mouse` class will largely be the same as the `Animal_Agent` class except for two details: \n",
    "\n",
    "1. **In the `set_allele` method, add a new class attribute called `catch_probability`. For the light-brown mice, set `catch_probability` to 0.95. For dark brown mice, set the `catch_probability` to 0.05.**\n",
    "2. **Change the `Procreate` method so that they create new `Mouse` animal objects.**\n",
    "\n"
   ]
  },
  {
   "cell_type": "code",
   "execution_count": 62,
   "metadata": {},
   "outputs": [],
   "source": [
    "#Write your code here\n",
    "import random \n",
    "import numpy as np\n",
    "import math\n",
    "import matplotlib.pyplot as plt\n",
    "import itertools\n",
    "\n",
    "class Mouse(Animal_Agent_Class.Animal_Agent):\n",
    "    \n",
    "    def __init__(self,xmax=100,ymax=100,ptype=\"Prey\",sex=\"M\",age_limit=50,catch_radius=10,mate_range=5,gestation=8,shape=\"o\",color=\"saddlebrown\",saturation_pop=150):\n",
    "        super().__init__(xmax,ymax,ptype,sex,age_limit,catch_radius,mate_range,gestation,shape,color,saturation_pop)\n",
    "        self.catch_probability=0\n",
    "    \n",
    "    def set_allele(self,alle_d, alle_m):\n",
    "        self.alle_d = alle_d\n",
    "        self.alle_m = alle_m\n",
    "        if self.alle_d+self.alle_m>=1:\n",
    "            self.color = 'goldenrod'\n",
    "            self.catch_probability=0.95\n",
    "        else:\n",
    "            self.color = \"saddlebrown\" \n",
    "            self.catch_probability=0.05\n",
    "            \n",
    "    def procreate(self,all_agents,time):\n",
    " \n",
    "        child_list = []\n",
    "        val = random.random()\n",
    "        if (self.sex == 'F') and (np.mod(abs(time-self.last_litter_time),self.gestation) == 0):\n",
    "            for agent in all_agents:\n",
    "                if (agent.ptype==\"Prey\") and (agent.sex == \"M\") and (self.get_distance(agent) <= self.mate_range) and (val > (1.0/(1.0+np.exp(-len(all_agents)/self.saturation_pop)))):\n",
    "                    child_num = int(np.random.normal(7,1))\n",
    "                    for jj in range(child_num):\n",
    "                        mom_a = self.alle_d\n",
    "                        if np.random.randint(0,2) == 1:\n",
    "                            mom_a = self.alle_m\n",
    "                        dad_a = agent.alle_d\n",
    "                        if np.random.randint(0,2) == 1:\n",
    "                            dad_a = agent.alle_m               \n",
    "                        child = Mouse(sex=\"F\")\n",
    "                        if np.random.randint(0,2) == 1:\n",
    "                            child = Mouse(sex=\"M\")\n",
    "                        child.set_allele(dad_a,mom_a)\n",
    "                        child_list.append(child)\n",
    "                    self.last_litter_time = time\n",
    "                    break\n",
    "\n",
    "        return child_list"
   ]
  },
  {
   "cell_type": "markdown",
   "metadata": {},
   "source": [
    "### 2.2 (10 Points)\n",
    "\n",
    "Create a new `Hawk` child class, using the `Animal_Agent` as the parent class. The `Hawk` class will largely be the same as the `Animal_Agent` class except for one detail: **In the `hunt` method, incorporate the `catch_probability` of the predator, such that it is harder for a `Hawk` to catch a `Mouse` with a lower `catch_probability`.**"
   ]
  },
  {
   "cell_type": "code",
   "execution_count": 63,
   "metadata": {},
   "outputs": [],
   "source": [
    "#Write your code here\n",
    "class Hawk(Animal_Agent_Class.Animal_Agent):\n",
    "    \n",
    "    def __init__(self,xmax=100,ymax=100,ptype=\"Predator\",sex=\"M\",age_limit=50,catch_radius=10,mate_range=5,gestation=8,shape=\"o\",color=\"saddlebrown\",saturation_pop=150):\n",
    "        super().__init__(xmax,ymax,ptype,sex,age_limit,catch_radius,mate_range,gestation,shape,color,saturation_pop)\n",
    "        \n",
    "    def hunt(self, all_agents):\n",
    "        '''\n",
    "        Method for a predator to find prey. If the predator finds prey, the method sets the is_caught flag \n",
    "        and returns the prey object so it can be removed from the environment. \n",
    "\n",
    "\n",
    "        all_agents (list): A list of all of the animal agent objects \n",
    "        '''\n",
    "        for agent in all_agents:\n",
    "            if (agent.ptype == \"Prey\") and (agent.age < agent.age_limit) and not (agent.is_caught):\n",
    "                if self.get_distance(agent) < self.catch_radius:\n",
    "                    if np.random.uniform(0,1) <=agent.catch_probability:\n",
    "                        agent.is_caught = True\n",
    "                        return agent       \n",
    "        return False"
   ]
  },
  {
   "cell_type": "markdown",
   "metadata": {},
   "source": [
    "### 2.3 (5 Points)\n",
    "\n",
    "**Repeat problem 1.5, replacing the generic prey with the `Mice` animals, and the generic predators with the `Hawk` animals.**"
   ]
  },
  {
   "cell_type": "code",
   "execution_count": 55,
   "metadata": {},
   "outputs": [
    {
     "data": {
      "text/plain": [
       "0"
      ]
     },
     "execution_count": 55,
     "metadata": {},
     "output_type": "execute_result"
    }
   ],
   "source": []
  },
  {
   "cell_type": "code",
   "execution_count": 98,
   "metadata": {},
   "outputs": [
    {
     "data": {
      "image/png": "[encoded data removed]",
      "text/plain": [
       "<Figure size 432x288 with 1 Axes>"
      ]
     },
     "metadata": {
      "needs_background": "light"
     },
     "output_type": "display_data"
    }
   ],
   "source": [
    "#Write your code here\n",
    "\n",
    "#Write your code here\n",
    "pred_1_b = Hawk(ptype='Predator',color='b',shape=\"P\")\n",
    "pred_1_g = Hawk(ptype='Predator',color='g',shape=\"P\")\n",
    "\n",
    "ani_1_f = Mouse(sex='F')\n",
    "ani_1_m = Mouse(sex='M')\n",
    "ani_2_f = Mouse(sex='F')\n",
    "ani_2_m =  Mouse(sex='M')\n",
    "ani_3_f = Mouse(sex='F')\n",
    "ani_3_m =  Mouse(sex='M')\n",
    "ani_4_f = Mouse(sex='F')\n",
    "ani_4_m =  Mouse(sex='M')\n",
    "ani_5_f = Mouse(sex='F')\n",
    "ani_5_m =  Mouse(sex='M')\n",
    "ani_6_f = Mouse(sex='F')\n",
    "ani_6_m =  Mouse(sex='M')\n",
    "ani_7_f = Mouse(sex='F')\n",
    "ani_7_m =  Mouse(sex='M')\n",
    "ani_8_f = Mouse(sex='F')\n",
    "ani_8_m =  Mouse(sex='M')\n",
    "ani_9_f = Mouse(sex='F')\n",
    "ani_9_m =  Mouse(sex='M')\n",
    "\n",
    "ani_1_f.set_allele(np.random.choice([0,1],1)[0], np.random.choice([0,1],1)[0])\n",
    "ani_1_m.set_allele(np.random.choice([0,1],1)[0], np.random.choice([0,1],1)[0])\n",
    "ani_2_f.set_allele(np.random.choice([0,1],1)[0], np.random.choice([0,1],1)[0])\n",
    "ani_2_m.set_allele(np.random.choice([0,1],1)[0], np.random.choice([0,1],1)[0])\n",
    "ani_3_f.set_allele(np.random.choice([0,1],1)[0], np.random.choice([0,1],1)[0])\n",
    "ani_3_m.set_allele(np.random.choice([0,1],1)[0], np.random.choice([0,1],1)[0])\n",
    "ani_4_f.set_allele(np.random.choice([0,1],1)[0], np.random.choice([0,1],1)[0])\n",
    "ani_4_m.set_allele(np.random.choice([0,1],1)[0], np.random.choice([0,1],1)[0])\n",
    "\n",
    "ani_5_f.set_allele(np.random.choice([0,1],1)[0], np.random.choice([0,1],1)[0])\n",
    "ani_5_m.set_allele(np.random.choice([0,1],1)[0], np.random.choice([0,1],1)[0])\n",
    "\n",
    "ani_6_f.set_allele(np.random.choice([0,1],1)[0], np.random.choice([0,1],1)[0])\n",
    "ani_6_m.set_allele(np.random.choice([0,1],1)[0], np.random.choice([0,1],1)[0])\n",
    "\n",
    "ani_7_f.set_allele(np.random.choice([0,1],1)[0], np.random.choice([0,1],1)[0])\n",
    "ani_7_m.set_allele(np.random.choice([0,1],1)[0], np.random.choice([0,1],1)[0])\n",
    "\n",
    "ani_8_f.set_allele(np.random.choice([0,1],1)[0], np.random.choice([0,1],1)[0])\n",
    "ani_8_m.set_allele(np.random.choice([0,1],1)[0], np.random.choice([0,1],1)[0])\n",
    "\n",
    "ani_9_f.set_allele(np.random.choice([0,1],1)[0], np.random.choice([0,1],1)[0])\n",
    "ani_9_m.set_allele(np.random.choice([0,1],1)[0], np.random.choice([0,1],1)[0])\n",
    "\n",
    "\n",
    "\n",
    "env = Environment.Environment()\n",
    "env.add_agent(ani_1_f)\n",
    "env.add_agent(ani_1_m)\n",
    "env.add_agent(ani_2_f)\n",
    "env.add_agent(ani_2_m)\n",
    "env.add_agent(ani_3_f)\n",
    "env.add_agent(ani_3_m)\n",
    "env.add_agent(ani_4_f)\n",
    "env.add_agent(ani_4_m)\n",
    "env.add_agent(ani_5_f)\n",
    "env.add_agent(ani_5_m)\n",
    "env.add_agent(ani_6_f)\n",
    "env.add_agent(ani_6_m)\n",
    "env.add_agent(ani_7_f)\n",
    "env.add_agent(ani_7_m)\n",
    "env.add_agent(ani_8_f)\n",
    "env.add_agent(ani_8_m)\n",
    "env.add_agent(ani_9_f)\n",
    "env.add_agent(ani_9_m)\n",
    "\n",
    "env.add_agent(pred_1_b)\n",
    "env.add_agent(pred_1_g)\n",
    "env.simulate_plot_populations(100)\n"
   ]
  },
  {
   "cell_type": "markdown",
   "metadata": {},
   "source": [
    "### 2.4 (5 Points)\n",
    "\n",
    "**Describe the differences between your results using the `Hawk` and `Mouse` class and the results from part 1.5. If and how does this model capture the effects of natural selection?**"
   ]
  },
  {
   "cell_type": "markdown",
   "metadata": {},
   "source": [
    "*Write your response below*\n",
    "Notice the biggest difference is that althought both start with low dark brown numbers and high light brown numbers, this one shows that the darker brown population got bigger than the population of light brown in the end. This is because unlike light brown mouse, dark brown mouse have lower catch_probability so they are unlikely to get caught hence unlikely to die. On the contrary, light brown mouse although having large population at first, are easy to get caught and die. As the time goes, we notice that mouse that are easy to get caught got smaller population and mouse that are difficult to catch got larger population, showing the effect of natural selection."
   ]
  },
  {
   "cell_type": "markdown",
   "metadata": {},
   "source": [
    "---\n",
    "### &#128721; STOP\n",
    "**Pause to commit your changes and push to your Git repository!**\n",
    "\n",
    "## Git push, and then merge your `hw03_branch` into your `main` branch."
   ]
  },
  {
   "cell_type": "markdown",
   "metadata": {},
   "source": []
  }
 ],
 "metadata": {
  "kernelspec": {
   "display_name": "Python 3",
   "language": "python",
   "name": "python3"
  },
  "language_info": {
   "codemirror_mode": {
    "name": "ipython",
    "version": 3
   },
   "file_extension": ".py",
   "mimetype": "text/x-python",
   "name": "python",
   "nbconvert_exporter": "python",
   "pygments_lexer": "ipython3",
   "version": "3.8.8"
  }
 },
 "nbformat": 4,
 "nbformat_minor": 2
}
