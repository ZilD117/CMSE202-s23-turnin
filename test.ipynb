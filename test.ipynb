{
 "cells": [
  {
   "cell_type": "markdown",
   "metadata": {},
   "source": [
    "# In-Class Assignment: Simulating Superbugs using agent-based modeling\n",
    "# Day 8\n",
    "# CMSE 202\n",
    "\n",
    "<img src=\"https://sites.psu.edu/siowfa16/files/2016/10/Screen-Shot-2016-10-18-at-12.50.26-AM-1egeuzd.png\" width=400px>\n",
    "<p style=\"text-align: right;\">Image from: https://sites.psu.edu/siowfa16/2016/10/18/what-are-superbugs/comment-page-1/</p>"
   ]
  },
  {
   "cell_type": "markdown",
   "metadata": {},
   "source": [
    "### <p style=\"text-align: right;\"> &#9989; **Put your name here** </p>\n",
    "#### <p style=\"text-align: right;\"> &#9989; Put your group member names here</p>"
   ]
  },
  {
   "cell_type": "markdown",
   "metadata": {},
   "source": [
    "## Learning Goals:\n",
    "\n",
    "By the end of this assignment you should have:\n",
    "* Become more comfortable with writing a custom class from scratch\n",
    "* Practiced using stub functions to sketch out the methods needed by a new class\n",
    "* Designed a plan for implementing an agent-based model to simulate bacteria evolution\n",
    "    * **Note**: Design decisions early on can have a large impact on the final outcome.  Try to make design decisions that are flexible. Do not be afraid to refactor your code (i.e. start over with the design). \n",
    "\n",
    "## Agenda\n",
    "\n",
    "1. [Pre-class assignment review and discussion](#pca-review)\n",
    "1. [Problem Description (simulating bacteria evolution)](#problem)\n",
    "1. [Building code stubs for your model (using classes and methods)](#code-stubs)\n",
    "1. Preview Visualization\n",
    "\n",
    "## Assignment instructions\n",
    "\n",
    "Instructions for submitting this assignment are at the end of the notebook. The assignment is due at the end of class.\n",
    "\n",
    "### Agenda for today's class\n",
    "\n",
    "</p>\n",
    "\n",
    "1. Review Pre-class Assignment\n"
   ]
  },
  {
   "cell_type": "markdown",
   "metadata": {},
   "source": [
    "---\n",
    "<a id=\"pca-review\"></a>\n",
    "# 1. Pre-class assignment review and discussion\n",
    "\n",
    "Did anyone have any specific issues with the pre-class assignment?\n",
    "\n",
    "Let's take a moment to highlight some key concepts. **Discuss with your group** the following prompts and write down a some brief notes from your discussion.\n",
    "\n",
    "&#9989; **Question 1:** What data structures did you think you might need to simulate the petri-dish experiment? What would these data structures be used to represent or keep track of?"
   ]
  },
  {
   "cell_type": "markdown",
   "metadata": {},
   "source": [
    "<font size=+3>&#9998;</font> Do This -  Make note of anything that comes up in your discussion that you didn't originally think or any ideas that you had based on your discussion."
   ]
  },
  {
   "cell_type": "markdown",
   "metadata": {},
   "source": [
    "&#9989; **Question 2:** What classes did you think you would need to define and what were some of the methods you came up with?"
   ]
  },
  {
   "cell_type": "markdown",
   "metadata": {},
   "source": [
    "<font size=+3>&#9998;</font> Do This -  Make note of anything that comes up in your discussion that you didn't originally think or any ideas that you had based on your discussion."
   ]
  },
  {
   "cell_type": "markdown",
   "metadata": {},
   "source": [
    "----\n",
    "<a id=\"problem\"></a>\n",
    "# 2. Problem Description (simulating bacteria evolution)\n",
    "\n",
    "In this assignment we are going to start to build an agent based model to simulate the evolution of bacteria to become resistant to antibiotics.   If you need to refresh your memory, re-watch the following video that was in your pre-class assignment.  Our goal is to build a simulation that reconstructs this real world experiment. \n",
    "\n",
    "Here's the link to the original article as well: http://www.the-scientist.com/?articles.view/articleNo/46993/title/Giant-Petri-Dish-Displays-Evolution-in-Space-and-Time/"
   ]
  },
  {
   "cell_type": "code",
   "execution_count": 40,
   "metadata": {},
   "outputs": [],
   "source": [
    "import numpy as np\n",
    "from matplotlib import pyplot as plt\n",
    "from scipy import integrate\n",
    "\n",
    "import ode\n",
    "\n",
    "def f1(y):\n",
    "    return 4*y\n",
    "\n",
    "def f2(y):\n",
    "    return [y[1], 4*y[0]]\n",
    "\n"
   ]
  },
  {
   "cell_type": "code",
   "execution_count": 41,
   "metadata": {},
   "outputs": [
    {
     "data": {
      "text/plain": [
       "8.0"
      ]
     },
     "execution_count": 41,
     "metadata": {},
     "output_type": "execute_result"
    }
   ],
   "source": [
    "f1(2.0)"
   ]
  },
  {
   "cell_type": "code",
   "execution_count": 48,
   "metadata": {},
   "outputs": [],
   "source": [
    "def secant(f, a, b, error):\n",
    "    if abs(f(a)) < error:\n",
    "        return [a, f(a)]\n",
    "    else:\n",
    "        return secant(f, b - (b - a) * f(b) / (f(b) - f(a)), a, error)\n",
    "\n",
    "\n",
    "def shoot(f, delta_t, x0, v0, error):\n",
    "    y0 = secant(f, x0, v0, error)\n",
    "    x, v, t = ode.solve(delta_t, y0[0], y0[1], 4)\n",
    "    return x, v, t\n",
    "\n",
    "error = 1e-6\n",
    "delta_t = 0.001\n",
    "x0 = 5\n",
    "v0 = 218.282706"
   ]
  },
  {
   "cell_type": "code",
   "execution_count": 49,
   "metadata": {},
   "outputs": [],
   "source": [
    "y, v, t = shoot(f1, delta_t, x0, v0, error)\n",
    "t3 = np.linspace(0,2,1000)\n",
    "#sol = integrate.solve_ivp(f2,(0,2),(5, 218.282706),t_eval=t3)\n",
    "#y3, v3 = sol.y\n",
    "#plt.plot(t3, y3, label ='scipy method')"
   ]
  },
  {
   "cell_type": "code",
   "execution_count": 50,
   "metadata": {},
   "outputs": [
    {
     "data": {
      "image/png": "[encoded data removed]",
      "text/plain": [
       "<Figure size 432x288 with 1 Axes>"
      ]
     },
     "metadata": {
      "needs_background": "light"
     },
     "output_type": "display_data"
    }
   ],
   "source": [
    "\n",
    "y2 = [2*np.exp(2*t)+3*np.exp(-2*t) for t in t]\n",
    "plt.plot(t,y,label='shooting method')\n",
    "plt.plot(t,y2,label='analytical solution')\n",
    "plt.legend()\n",
    "plt.show()"
   ]
  },
  {
   "cell_type": "markdown",
   "metadata": {},
   "source": [
    "import numpy as np\n",
    "\n",
    "def secant(f, a, b, error):\n",
    "    if abs(f(a)) < error:\n",
    "        return a\n",
    "    else:\n",
    "        return secant(f, a - (a - b) * f(a) / (f(a) - f(b)), a, error)\n",
    "\n",
    "def shooting_method_secant(f, y0, yp0, x_interval, error):\n",
    "    a = y0\n",
    "    b = y0 + 1\n",
    "    y = y0\n",
    "    while abs(f(y, yp0)) > error:\n",
    "        yp0 = secant(lambda yp: f(y, yp), a, b, error)\n",
    "        a = b\n",
    "        b = b + 1\n",
    "    \n",
    "    Use Runge-Kutta method to solve the ODE\n",
    "    x = np.linspace(x_interval[0], x_interval[1], 1000)\n",
    "    h = x[1] - x[0]\n",
    "    sol = np.zeros((len(x), 2))\n",
    "    sol[0,0] = y0\n",
    "    sol[0,1] = yp0\n",
    "    \n",
    "    for i in range(1, len(x)):\n",
    "        k1 = h * sol[i-1,1]\n",
    "        l1 = h * f(sol[i-1,0], sol[i-1,1])\n",
    "        k2 = h * (sol[i-1,1] + l1/2)\n",
    "        l2 = h * f(sol[i-1,0] + h/2, sol[i-1,1] + l1/2)\n",
    "        k3 = h * (sol[i-1,1] + l2/2)\n",
    "        l3 = h * f(sol[i-1,0] + h/2, sol[i-1,1] + l2/2)\n",
    "        k4 = h * (sol[i-1,1] + l3)\n",
    "        l4 = h * f(sol[i-1,0] + h, sol[i-1,1] + l3)\n",
    "        sol[i,0] = sol[i-1,0] + h\n",
    "        sol[i,1] = sol[i-1,1] + (k1 + 2*k2 + 2*k3 + k4)/6\n",
    "    \n",
    "    return x, sol\n",
    "\n",
    "def f(y, yp):\n",
    "    return yp, 4 * y\n",
    "\n",
    "x_interval = [0, 2]\n",
    "error = 1e-6\n",
    "y0 = 5\n",
    "yp0 = 0\n",
    "x, sol = shooting_method_secant(f, y0, yp0, x_interval, error)"
   ]
  },
  {
   "cell_type": "code",
   "execution_count": 55,
   "metadata": {},
   "outputs": [
    {
     "ename": "TypeError",
     "evalue": "can't multiply sequence by non-int of type 'numpy.float64'",
     "output_type": "error",
     "traceback": [
      "\u001b[0;31m---------------------------------------------------------------------------\u001b[0m",
      "\u001b[0;31mTypeError\u001b[0m                                 Traceback (most recent call last)",
      "\u001b[0;32m<ipython-input-55-bf7075251b83>\u001b[0m in \u001b[0;36m<module>\u001b[0;34m\u001b[0m\n\u001b[1;32m     46\u001b[0m \u001b[0my0\u001b[0m \u001b[0;34m=\u001b[0m \u001b[0;36m5\u001b[0m\u001b[0;34m\u001b[0m\u001b[0;34m\u001b[0m\u001b[0m\n\u001b[1;32m     47\u001b[0m \u001b[0myp0\u001b[0m \u001b[0;34m=\u001b[0m \u001b[0;36m0\u001b[0m\u001b[0;34m\u001b[0m\u001b[0;34m\u001b[0m\u001b[0m\n\u001b[0;32m---> 48\u001b[0;31m \u001b[0mx\u001b[0m\u001b[0;34m,\u001b[0m \u001b[0msol\u001b[0m \u001b[0;34m=\u001b[0m \u001b[0mshooting_method_secant\u001b[0m\u001b[0;34m(\u001b[0m\u001b[0mf\u001b[0m\u001b[0;34m,\u001b[0m \u001b[0my0\u001b[0m\u001b[0;34m,\u001b[0m \u001b[0myp0\u001b[0m\u001b[0;34m,\u001b[0m \u001b[0mx_interval\u001b[0m\u001b[0;34m,\u001b[0m \u001b[0merror\u001b[0m\u001b[0;34m)\u001b[0m\u001b[0;34m\u001b[0m\u001b[0;34m\u001b[0m\u001b[0m\n\u001b[0m",
      "\u001b[0;32m<ipython-input-55-bf7075251b83>\u001b[0m in \u001b[0;36mshooting_method_secant\u001b[0;34m(f, y0, yp0, x_interval, error)\u001b[0m\n\u001b[1;32m     27\u001b[0m     \u001b[0;32mfor\u001b[0m \u001b[0mi\u001b[0m \u001b[0;32min\u001b[0m \u001b[0mrange\u001b[0m\u001b[0;34m(\u001b[0m\u001b[0;36m1\u001b[0m\u001b[0;34m,\u001b[0m \u001b[0mlen\u001b[0m\u001b[0;34m(\u001b[0m\u001b[0mx\u001b[0m\u001b[0;34m)\u001b[0m\u001b[0;34m)\u001b[0m\u001b[0;34m:\u001b[0m\u001b[0;34m\u001b[0m\u001b[0;34m\u001b[0m\u001b[0m\n\u001b[1;32m     28\u001b[0m         \u001b[0mk1\u001b[0m \u001b[0;34m=\u001b[0m \u001b[0mh\u001b[0m \u001b[0;34m*\u001b[0m \u001b[0msol\u001b[0m\u001b[0;34m[\u001b[0m\u001b[0mi\u001b[0m\u001b[0;34m-\u001b[0m\u001b[0;36m1\u001b[0m\u001b[0;34m,\u001b[0m\u001b[0;36m1\u001b[0m\u001b[0;34m]\u001b[0m\u001b[0;34m\u001b[0m\u001b[0;34m\u001b[0m\u001b[0m\n\u001b[0;32m---> 29\u001b[0;31m         \u001b[0ml1\u001b[0m \u001b[0;34m=\u001b[0m \u001b[0mh\u001b[0m \u001b[0;34m*\u001b[0m \u001b[0mf\u001b[0m\u001b[0;34m(\u001b[0m\u001b[0msol\u001b[0m\u001b[0;34m[\u001b[0m\u001b[0mi\u001b[0m\u001b[0;34m-\u001b[0m\u001b[0;36m1\u001b[0m\u001b[0;34m,\u001b[0m\u001b[0;36m0\u001b[0m\u001b[0;34m]\u001b[0m\u001b[0;34m,\u001b[0m \u001b[0msol\u001b[0m\u001b[0;34m[\u001b[0m\u001b[0mi\u001b[0m\u001b[0;34m-\u001b[0m\u001b[0;36m1\u001b[0m\u001b[0;34m,\u001b[0m\u001b[0;36m1\u001b[0m\u001b[0;34m]\u001b[0m\u001b[0;34m)\u001b[0m\u001b[0;34m\u001b[0m\u001b[0;34m\u001b[0m\u001b[0m\n\u001b[0m\u001b[1;32m     30\u001b[0m         \u001b[0mk2\u001b[0m \u001b[0;34m=\u001b[0m \u001b[0mh\u001b[0m \u001b[0;34m*\u001b[0m \u001b[0;34m(\u001b[0m\u001b[0msol\u001b[0m\u001b[0;34m[\u001b[0m\u001b[0mi\u001b[0m\u001b[0;34m-\u001b[0m\u001b[0;36m1\u001b[0m\u001b[0;34m,\u001b[0m\u001b[0;36m1\u001b[0m\u001b[0;34m]\u001b[0m \u001b[0;34m+\u001b[0m \u001b[0ml1\u001b[0m\u001b[0;34m/\u001b[0m\u001b[0;36m2\u001b[0m\u001b[0;34m)\u001b[0m\u001b[0;34m\u001b[0m\u001b[0;34m\u001b[0m\u001b[0m\n\u001b[1;32m     31\u001b[0m         \u001b[0ml2\u001b[0m \u001b[0;34m=\u001b[0m \u001b[0mh\u001b[0m \u001b[0;34m*\u001b[0m \u001b[0mf\u001b[0m\u001b[0;34m(\u001b[0m\u001b[0msol\u001b[0m\u001b[0;34m[\u001b[0m\u001b[0mi\u001b[0m\u001b[0;34m-\u001b[0m\u001b[0;36m1\u001b[0m\u001b[0;34m,\u001b[0m\u001b[0;36m0\u001b[0m\u001b[0;34m]\u001b[0m \u001b[0;34m+\u001b[0m \u001b[0mh\u001b[0m\u001b[0;34m/\u001b[0m\u001b[0;36m2\u001b[0m\u001b[0;34m,\u001b[0m \u001b[0msol\u001b[0m\u001b[0;34m[\u001b[0m\u001b[0mi\u001b[0m\u001b[0;34m-\u001b[0m\u001b[0;36m1\u001b[0m\u001b[0;34m,\u001b[0m\u001b[0;36m1\u001b[0m\u001b[0;34m]\u001b[0m \u001b[0;34m+\u001b[0m \u001b[0ml1\u001b[0m\u001b[0;34m/\u001b[0m\u001b[0;36m2\u001b[0m\u001b[0;34m)\u001b[0m\u001b[0;34m\u001b[0m\u001b[0;34m\u001b[0m\u001b[0m\n",
      "\u001b[0;31mTypeError\u001b[0m: can't multiply sequence by non-int of type 'numpy.float64'"
     ]
    }
   ],
   "source": [
    "import numpy as np\n",
    "\n",
    "def secant(f, a, b, error):\n",
    "    if abs(f(a)[0]) < error:\n",
    "        return a\n",
    "    else:\n",
    "        return secant(f, a - (a - b) * f(a) / (f(a) - f(b)), a, error)\n",
    "\n",
    "def shooting_method_secant(f, y0, yp0, x_interval, error):\n",
    "    a = y0\n",
    "    b = y0 + 1\n",
    "    y = y0\n",
    "    \n",
    "    # Find the value of yp that satisfies the boundary condition\n",
    "    while abs(f(y, yp0)[0]) > error:\n",
    "        yp0 = secant(lambda yp: f(y, yp), a, b, error)\n",
    "        a = b\n",
    "        b = b + 1\n",
    "    \n",
    "    # Use Runge-Kutta method to solve the ODE\n",
    "    x = np.linspace(x_interval[0], x_interval[1], 1000)\n",
    "    h = x[1] - x[0]\n",
    "    sol = np.zeros((len(x), 2))\n",
    "    sol[0,0] = y0\n",
    "    sol[0,1] = yp0\n",
    "    \n",
    "    for i in range(1, len(x)):\n",
    "        k1 = h * sol[i-1,1]\n",
    "        l1 = h * f(sol[i-1,0], sol[i-1,1])\n",
    "        k2 = h * (sol[i-1,1] + l1/2)\n",
    "        l2 = h * f(sol[i-1,0] + h/2, sol[i-1,1] + l1/2)\n",
    "        k3 = h * (sol[i-1,1] + l2/2)\n",
    "        l3 = h * f(sol[i-1,0] + h/2, sol[i-1,1] + l2/2)\n",
    "        k4 = h * (sol[i-1,1] + l3)\n",
    "        l4 = h * f(sol[i-1,0] + h, sol[i-1,1] + l3)\n",
    "        sol[i,0] = sol[i-1,0] + h\n",
    "        sol[i,1] = sol[i-1,1] + (k1 + 2*k2 + 2*k3 + k4)/6\n",
    "    \n",
    "    return x, sol\n",
    "\n",
    "def f(y, yp):\n",
    "    return yp, 4 * y\n",
    "\n",
    "x_interval = [0, 2]\n",
    "error = 1e-6\n",
    "y0 = 5\n",
    "yp0 = 0\n",
    "x, sol = shooting_method_secant(f, y0, yp0, x_interval, error)"
   ]
  },
  {
   "cell_type": "markdown",
   "metadata": {},
   "source": [
    "&#9989; **Question 3:** What additional assumptions do you think you need to make for this project?  Do you need to modify or add to any of the above assumptions to make the problem more tractable?"
   ]
  },
  {
   "cell_type": "code",
   "execution_count": 62,
   "metadata": {},
   "outputs": [
    {
     "data": {
      "image/png": "[encoded data removed]",
      "text/plain": [
       "<Figure size 432x288 with 1 Axes>"
      ]
     },
     "metadata": {
      "needs_background": "light"
     },
     "output_type": "display_data"
    }
   ],
   "source": [
    "import numpy as np\n",
    "import matplotlib.pyplot as plt\n",
    "\n",
    "def f(y, y_prime, t):\n",
    "    return 4 * y\n",
    "\n",
    "def shooting_method_secant(y0, y0_prime, t0, tf, tol=1e-6):\n",
    "    # Function to implement the shooting method with secant method\n",
    "    \n",
    "    t = np.linspace(t0, tf, 1000)\n",
    "    h = t[1] - t[0]\n",
    "    y = np.zeros(len(t))\n",
    "    y_prime = np.zeros(len(t))\n",
    "    y[0] = y0\n",
    "    y_prime[0] = y0_prime\n",
    "    f0 = y0\n",
    "    f1 = y0 + y0_prime * (tf - t0) - 218.282706\n",
    "    \n",
    "    for i in range(1, len(t)):\n",
    "        k1 = h * y_prime[i-1]\n",
    "        l1 = h * f(y[i-1], y_prime[i-1], t[i-1])\n",
    "        k2 = h * (y_prime[i-1] + l1/2)\n",
    "        l2 = h * f(y[i-1] + k1/2, y_prime[i-1] + l1/2, t[i-1] + h/2)\n",
    "        k3 = h * (y_prime[i-1] + l2/2)\n",
    "        l3 = h * f(y[i-1] + k2/2, y_prime[i-1] + l2/2, t[i-1] + h/2)\n",
    "        k4 = h * (y_prime[i-1] + l3)\n",
    "        l4 = h * f(y[i-1] + k3, y_prime[i-1] + l3, t[i-1] + h)\n",
    "        \n",
    "        y[i] = y[i-1] + (k1 + 2*k2 + 2*k3 + k4) / 6\n",
    "        y_prime[i] = y_prime[i-1] + (l1 + 2*l2 + 2*l3 + l4) / 6\n",
    "        f0 = f1\n",
    "        f1 = y[i] + y_prime[i] * (tf - t[i]) - 218.282706\n",
    "        \n",
    "        if abs(f1) < tol:\n",
    "            break\n",
    "    \n",
    "    return y, y_prime\n",
    "\n",
    "y0 = 5\n",
    "y0_prime = 3\n",
    "t0 = 0\n",
    "tf = 2\n",
    "plt.plot(t,y)\n",
    "plt.show()\n"
   ]
  },
  {
   "cell_type": "markdown",
   "metadata": {},
   "source": [
    "<font size=+3>&#9998;</font> Do This - Erase the contents of this cell and replace it with your answer to the above question!  (double-click on this text to edit this cell, and hit shift+enter to save the text)"
   ]
  },
  {
   "cell_type": "markdown",
   "metadata": {},
   "source": [
    "**Consider the following example simulation as one possible solution to this problem:**"
   ]
  },
  {
   "cell_type": "code",
   "execution_count": null,
   "metadata": {},
   "outputs": [],
   "source": [
    "from IPython.display import YouTubeVideo\n",
    "YouTubeVideo(\"p_wGHmNYE_0\",width=800,height=450)"
   ]
  },
  {
   "cell_type": "markdown",
   "metadata": {},
   "source": [
    "This video was created with the following settings:\n",
    "\n",
    "* The bugs were initialized in the first and last column of the petri dish with randomly generated bacteria \n",
    "* Equal amounts of all three antibiotics in 9 different bins using the following pattern:  \n",
    "    | 0.0 | 0.50 | 0.75 | 0.80 | 0.95 | 0.80 | 0.75 | 0.5 | 0.0 |\n",
    "* The cells copied with a mutation rate of 20% (i.e. there is a 20% chance each gene will randomly mutate during each copy).\n"
   ]
  },
  {
   "cell_type": "markdown",
   "metadata": {},
   "source": [
    "----\n",
    "<a id=\"code-stubs\"></a>\n",
    "# 3. Building code stubs for your model (using classes and methods)\n",
    "\n",
    "**&#9989; Do This:** **As a group**, decide on what classes and functions that will be needed for the simulation and create stub functions for your classes.  Focus on the inputs, outputs and data types, but don't worry about trying to code up all of your methods yet! You just need the stub functions. \n",
    "\n",
    "Here are some hints:\n",
    "- you can use the `pass` keyword to create an empty class or an empty method. However, in creating an empty method you can still specify the input parameters which can be useful\n",
    "- you might think about some class variables, values that can be stored and utilized by all instances"
   ]
  },
  {
   "cell_type": "code",
   "execution_count": null,
   "metadata": {},
   "outputs": [],
   "source": [
    "# Put your stub functions here\n"
   ]
  },
  {
   "cell_type": "markdown",
   "metadata": {},
   "source": [
    "----\n",
    "# 4.  Initialize and draw your \"world\" for the model (i.e. the petri dish and initial bacteria)"
   ]
  },
  {
   "cell_type": "markdown",
   "metadata": {},
   "source": [
    "Lets start filling in the stub functions by focusing on the **visualization**. Try considering the following:\n",
    "\n",
    "* Use colors to indicate the level of antibiotics in the petri dish. Since there are three antibiotics you can use the Red, Green and Blue Channels to indicate the amount of each of the three antibiotics. The `imshow` function can process a 2D array of RGB values.\n",
    "* Use colors to differentiate the types of the bugs. Since there are three genes for each bug, you can use the Red, Green and Blue color channels to differentiate them. The `scatter` function can take in a list of RGB values to color a point.\n",
    "\n",
    "You should come up with a method (or couple of methods) in your class (or classes) to draw the petri dish and the bugs. Should bug be able to draw themselves on the petri dish given their location? Or should the petri dish handling all of the drawing given a list of bugs? You get to choose how to do this!"
   ]
  },
  {
   "cell_type": "markdown",
   "metadata": {},
   "source": [
    "**&#9989; Do This:** Try to implement some of your stub functions to initialize the problem and see if you can come up with a method to visualize the starting state. See if you can create a board that looks similar to the following:\n",
    "<div align=\"center\"><img src=\"https://i.ibb.co/gwwg9rC/example-dish.png\" alt=\"example-dish\" border=\"0\", width=800></div>\n"
   ]
  },
  {
   "cell_type": "code",
   "execution_count": null,
   "metadata": {},
   "outputs": [],
   "source": [
    "# Put your code here\n"
   ]
  },
  {
   "cell_type": "markdown",
   "metadata": {},
   "source": [
    "----"
   ]
  },
  {
   "cell_type": "code",
   "execution_count": null,
   "metadata": {},
   "outputs": [],
   "source": [
    "from IPython.display import HTML\n",
    "HTML(\n",
    "\"\"\"\n",
    "<iframe \n",
    "\tsrc=\"https://cmse.msu.edu/cmse202-ic-survey\" \n",
    "\twidth=\"800px\" \n",
    "\theight=\"600px\" \n",
    "\tframeborder=\"0\" \n",
    "\tmarginheight=\"0\" \n",
    "\tmarginwidth=\"0\">\n",
    "\tLoading...\n",
    "</iframe>\n",
    "\"\"\"\n",
    ")"
   ]
  },
  {
   "cell_type": "markdown",
   "metadata": {},
   "source": [
    "-----\n",
    "### Congratulations, we're done!\n",
    "\n",
    "Now, you just need to submit this assignment by uploading it to the course <a href=\"https://d2l.msu.edu/\">Desire2Learn</a> web page for today's submission folder (Don't forget to add your names in the first cell).\n"
   ]
  },
  {
   "cell_type": "markdown",
   "metadata": {},
   "source": [
    "&#169; Copyright 2021, Department of Computational Mathematics, Science and Engineering at Michigan State University"
   ]
  }
 ],
 "metadata": {
  "kernelspec": {
   "display_name": "Python 3",
   "language": "python",
   "name": "python3"
  },
  "language_info": {
   "codemirror_mode": {
    "name": "ipython",
    "version": 3
   },
   "file_extension": ".py",
   "mimetype": "text/x-python",
   "name": "python",
   "nbconvert_exporter": "python",
   "pygments_lexer": "ipython3",
   "version": "3.8.8"
  },
  "widgets": {
   "application/vnd.jupyter.widget-state+json": {
    "state": {},
    "version_major": 2,
    "version_minor": 0
   }
  }
 },
 "nbformat": 4,
 "nbformat_minor": 4
}
